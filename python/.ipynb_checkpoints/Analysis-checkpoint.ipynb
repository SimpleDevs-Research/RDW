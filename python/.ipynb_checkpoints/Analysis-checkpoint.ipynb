{
 "cells": [
  {
   "cell_type": "code",
   "execution_count": 2,
   "id": "2a239b97",
   "metadata": {},
   "outputs": [],
   "source": [
    "import pandas as pd\n",
    "import os"
   ]
  },
  {
   "cell_type": "code",
   "execution_count": 70,
   "id": "e49bf2f1",
   "metadata": {},
   "outputs": [],
   "source": [
    "SAMPLES_DIR = './samples/New/'\n",
    "TRIAL_DIRS = {\n",
    "    'pcvr-0':'PCVR-ConfThresh_0/', \n",
    "    'pcvr-0.5':'PCVR-ConfThresh_0.5/',\n",
    "    'battery-0':'Standalone-Battery-ConfThresh_0/', \n",
    "    'battery-0.5':'Standalone-Battery-ConfThresh_0.5/',\n",
    "    'powered-0':'Standalone-PluggedIn-ConfThresh_0/', \n",
    "    'powered-0.5':'Standalone-PluggedIn-ConfThresh_0.5/'\n",
    "}\n",
    "EYE_FILES = {\n",
    "    'control':'Left_Eye_Control.csv', \n",
    "    'minimal':'Left_Eye_3.csv', \n",
    "    'trial_1':'Left_Eye_2.csv', \n",
    "    'trial_2':'Left_Eye_1.csv'\n",
    "}\n",
    "\n",
    "def get_filepath(trial_key, eye_key):\n",
    "    return os.path.join(SAMPLES_DIR, TRIAL_DIRS[trial_key], EYE_FILES[eye_key])\n",
    "\n",
    "def read_trial(filepath:str, sec_from_end:float, sec_duration:float):\n",
    "    # Read CSV\n",
    "    df = pd.read_csv(filepath)\n",
    "    \n",
    "    # Get more sensible timestamps\n",
    "    s = df['unix_ms'].iloc[0]\n",
    "    f = df['frame'].iloc[0]\n",
    "    df['trial_ms'] = df['unix_ms'] - s\n",
    "    df['trial_sec'] = df['trial_ms'] / 1000\n",
    "    df['trial_frame'] = df['frame'] - f\n",
    "    \n",
    "    # Filter by seconds from the end (sec) and and duration (sec). Then re-center the trial_ms and trial_sec\n",
    "    end_timestamp = df['trial_sec'].iloc[-1] - sec_from_end\n",
    "    df2 = df[df['trial_sec'].between(end_timestamp - sec_duration, end_timestamp)]\n",
    "    s2 = df2['trial_ms'].iloc[0]\n",
    "    s3 = df2['trial_sec'].iloc[0]\n",
    "    f2 = df2['trial_frame'].iloc[0]\n",
    "    df2['trial_ms2'] = df2['trial_ms'] - s2\n",
    "    df2['trial_sec2'] = df2['trial_sec'] - s3\n",
    "    df2['trial_frame2'] = df2['trial_frame'] - f2\n",
    "    df3 = df2.drop(columns=['id','frame','unix_ms','trial_ms','trial_sec','trial_frame'])\n",
    "    df4 = df3.rename(columns={'trial_ms2':'trial_ms', 'trial_sec2':'trial_sec', 'trial_frame2':'trial_frame'})\n",
    "    \n",
    "    # Sample Rate interpretation\n",
    "    df4['sample_count'] = range(0, len(df4))\n",
    "    \n",
    "    # Diff Interpretation\n",
    "    df4['rotation_x_diff'] = df4['rotation_x'].diff().fillna(0)\n",
    "    df4['rotation_y_diff'] = df4['rotation_y'].diff().fillna(0)\n",
    "    df4['rotation_z_diff'] = df4['rotation_z'].diff().fillna(0)\n",
    "    df4['trial_frame_diff'] = df4['trial_frame'].diff().fillna(0)\n",
    "    \n",
    "    # Return results\n",
    "    return df4"
   ]
  },
  {
   "cell_type": "code",
   "execution_count": 85,
   "id": "be88b2bc",
   "metadata": {},
   "outputs": [
    {
     "name": "stderr",
     "output_type": "stream",
     "text": [
      "C:\\Users\\Ryan Kim\\AppData\\Local\\Temp\\ipykernel_18240\\4127621514.py:37: SettingWithCopyWarning: \n",
      "A value is trying to be set on a copy of a slice from a DataFrame.\n",
      "Try using .loc[row_indexer,col_indexer] = value instead\n",
      "\n",
      "See the caveats in the documentation: https://pandas.pydata.org/pandas-docs/stable/user_guide/indexing.html#returning-a-view-versus-a-copy\n",
      "  df2['trial_ms2'] = df2['trial_ms'] - s2\n",
      "C:\\Users\\Ryan Kim\\AppData\\Local\\Temp\\ipykernel_18240\\4127621514.py:38: SettingWithCopyWarning: \n",
      "A value is trying to be set on a copy of a slice from a DataFrame.\n",
      "Try using .loc[row_indexer,col_indexer] = value instead\n",
      "\n",
      "See the caveats in the documentation: https://pandas.pydata.org/pandas-docs/stable/user_guide/indexing.html#returning-a-view-versus-a-copy\n",
      "  df2['trial_sec2'] = df2['trial_sec'] - s3\n",
      "C:\\Users\\Ryan Kim\\AppData\\Local\\Temp\\ipykernel_18240\\4127621514.py:39: SettingWithCopyWarning: \n",
      "A value is trying to be set on a copy of a slice from a DataFrame.\n",
      "Try using .loc[row_indexer,col_indexer] = value instead\n",
      "\n",
      "See the caveats in the documentation: https://pandas.pydata.org/pandas-docs/stable/user_guide/indexing.html#returning-a-view-versus-a-copy\n",
      "  df2['trial_frame2'] = df2['trial_frame'] - f2\n"
     ]
    },
    {
     "data": {
      "text/plain": [
       "71.76666666666667"
      ]
     },
     "execution_count": 85,
     "metadata": {},
     "output_type": "execute_result"
    }
   ],
   "source": [
    "df = read_trial(get_filepath('battery-0','control'), 10, 30)\n",
    "df_nonzero = df[df['rotation_x_diff'] != 0.0]\n",
    "sample_rate = len(df_nonzero)/30\n",
    "sample_rate"
   ]
  },
  {
   "cell_type": "code",
   "execution_count": 87,
   "id": "bf822927",
   "metadata": {},
   "outputs": [
    {
     "name": "stdout",
     "output_type": "stream",
     "text": [
      "0.013934045517882025 13.934045517882025\n"
     ]
    }
   ],
   "source": [
    "frame_duration_sec = 30/len(df_nonzero)\n",
    "frame_duration_ms = frame_duration_sec * 1000\n",
    "print(frame_duration_sec, frame_duration_ms)"
   ]
  },
  {
   "cell_type": "code",
   "execution_count": null,
   "id": "abbda222",
   "metadata": {},
   "outputs": [],
   "source": []
  }
 ],
 "metadata": {
  "kernelspec": {
   "display_name": "Python 3 (ipykernel)",
   "language": "python",
   "name": "python3"
  },
  "language_info": {
   "codemirror_mode": {
    "name": "ipython",
    "version": 3
   },
   "file_extension": ".py",
   "mimetype": "text/x-python",
   "name": "python",
   "nbconvert_exporter": "python",
   "pygments_lexer": "ipython3",
   "version": "3.10.7"
  }
 },
 "nbformat": 4,
 "nbformat_minor": 5
}
